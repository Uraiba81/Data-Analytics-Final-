{
 "cells": [
  {
   "cell_type": "code",
   "execution_count": 3,
   "id": "4edb5abc-5757-4465-9873-8842546432d0",
   "metadata": {},
   "outputs": [
    {
     "name": "stdout",
     "output_type": "stream",
     "text": [
      "Employee Name: John Doe\n",
      "Number: 12345\n",
      "Address: 123 Elm Street\n",
      "Salary: $75000\n",
      "Post: Software Engineer\n",
      "Year of Joining: 2015\n",
      "Education: B.Sc. Computer Science\n",
      "Years of Experience: 8\n",
      "\n"
     ]
    }
   ],
   "source": [
    "class Employee:\n",
    "    def __init__(self, name, number, address, salary, post, year_of_joining, education, years_of_experience):\n",
    "        self.name = name\n",
    "        self.number = number\n",
    "        self.address = address\n",
    "        self.salary = salary\n",
    "        self.post = post\n",
    "        self.year_of_joining = year_of_joining\n",
    "        self.education = education\n",
    "        self.years_of_experience = years_of_experience\n",
    "    \n",
    "    def display_details(self):\n",
    "        return (f\"Employee Name: {self.name}\\n\"\n",
    "                f\"Number: {self.number}\\n\"\n",
    "                f\"Address: {self.address}\\n\"\n",
    "                f\"Salary: ${self.salary}\\n\"\n",
    "                f\"Post: {self.post}\\n\"\n",
    "                f\"Year of Joining: {self.year_of_joining}\\n\"\n",
    "                f\"Education: {self.education}\\n\"\n",
    "                f\"Years of Experience: {self.years_of_experience}\\n\")\n",
    "employee1 = Employee(\"John Doe\", \"12345\", \"123 Elm Street\", 75000, \"Software Engineer\", 2015, \"B.Sc. Computer Science\", 8)\n",
    "\n",
    "print(employee1.display_details())"
   ]
  },
  {
   "cell_type": "code",
   "execution_count": 5,
   "id": "ec026547-8a8c-4936-beb1-2ef11f6f2b89",
   "metadata": {},
   "outputs": [
    {
     "name": "stdout",
     "output_type": "stream",
     "text": [
      "Employee Name: John Doe\n",
      "Number: 12345\n",
      "Address: 123 Elm Street\n",
      "Salary: $75000\n",
      "Post: Software Engineer\n",
      "Year of Joining: 2015\n",
      "Education: B.Sc. Computer Science\n",
      "Years of Experience: 8\n",
      "\n",
      "After updating experience:\n",
      "Employee Name: John Doe\n",
      "Number: 12345\n",
      "Address: 123 Elm Street\n",
      "Salary: $75000\n",
      "Post: Software Engineer\n",
      "Year of Joining: 2015\n",
      "Education: B.Sc. Computer Science\n",
      "Years of Experience: 9\n",
      "Salary increased by 10%. New salary: $82500.00\n"
     ]
    }
   ],
   "source": [
    "  class Employee:\n",
    "    def __init__(self, name, number, address, salary, post, year_of_joining, education, years_of_experience):\n",
    "        self.name = name\n",
    "        self.number = number\n",
    "        self.address = address\n",
    "        self.salary = salary\n",
    "        self.post = post\n",
    "        self.year_of_joining = year_of_joining\n",
    "        self.education = education\n",
    "        self.years_of_experience = years_of_experience\n",
    "\n",
    "    # Method to print employee details\n",
    "    def describe_employee(self):\n",
    "        print(f\"Employee Name: {self.name}\")\n",
    "        print(f\"Number: {self.number}\")\n",
    "        print(f\"Address: {self.address}\")\n",
    "        print(f\"Salary: ${self.salary}\")\n",
    "        print(f\"Post: {self.post}\")\n",
    "        print(f\"Year of Joining: {self.year_of_joining}\")\n",
    "        print(f\"Education: {self.education}\")\n",
    "        print(f\"Years of Experience: {self.years_of_experience}\")\n",
    "\n",
    "    # Method to update years of experience based on current year\n",
    "    def update_year_of_experience(self, current_year):\n",
    "        self.years_of_experience = current_year - self.year_of_joining\n",
    "\n",
    "    # Method to increase salary by a given percentage\n",
    "    def increase_salary(self, percentage_increase):\n",
    "        increment = self.salary * (percentage_increase / 100)\n",
    "        self.salary += increment\n",
    "        print(f\"Salary increased by {percentage_increase}%. New salary: ${self.salary:.2f}\")\n",
    "\n",
    "# Example usage:\n",
    "employee1 = Employee(\"John Doe\", \"12345\", \"123 Elm Street\", 75000, \"Software Engineer\", 2015, \"B.Sc. Computer Science\", 8)\n",
    "\n",
    "# Describe employee\n",
    "employee1.describe_employee()\n",
    "\n",
    "# Update years of experience (assuming the current year is 2024)\n",
    "employee1.update_year_of_experience(2024)\n",
    "print(\"\\nAfter updating experience:\")\n",
    "employee1.describe_employee()\n",
    "\n",
    "# Increase salary by 10%\n",
    "employee1.increase_salary(10)"
   ]
  },
  {
   "cell_type": "code",
   "execution_count": null,
   "id": "d275c2ef-2b1c-43db-838f-b3e207111596",
   "metadata": {},
   "outputs": [],
   "source": []
  }
 ],
 "metadata": {
  "kernelspec": {
   "display_name": "Python 3 (ipykernel)",
   "language": "python",
   "name": "python3"
  },
  "language_info": {
   "codemirror_mode": {
    "name": "ipython",
    "version": 3
   },
   "file_extension": ".py",
   "mimetype": "text/x-python",
   "name": "python",
   "nbconvert_exporter": "python",
   "pygments_lexer": "ipython3",
   "version": "3.12.4"
  }
 },
 "nbformat": 4,
 "nbformat_minor": 5
}
