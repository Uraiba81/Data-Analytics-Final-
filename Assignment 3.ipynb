{
 "cells": [
  {
   "cell_type": "code",
   "execution_count": 1,
   "id": "167bcf6e-0c73-419e-97d7-5963868f3754",
   "metadata": {},
   "outputs": [
    {
     "name": "stdout",
     "output_type": "stream",
     "text": [
      "twinkle twinkle little star\n",
      "    how I wonder what you are?\n",
      "            up above the world so high,\n",
      "            like a diamond in the sky\n",
      "    twinkle twinkle little star\n",
      "    how I wonder what you are?\n"
     ]
    }
   ],
   "source": [
    "print(\"\"\"twinkle twinkle little star\n",
    "    how I wonder what you are?\n",
    "            up above the world so high,\n",
    "            like a diamond in the sky\n",
    "    twinkle twinkle little star\n",
    "    how I wonder what you are?\"\"\")"
   ]
  },
  {
   "cell_type": "code",
   "execution_count": 2,
   "id": "0c99c95f-334d-4cf0-a531-7bd37216850f",
   "metadata": {},
   "outputs": [
    {
     "name": "stdout",
     "output_type": "stream",
     "text": [
      " Faheem Uraiba\n"
     ]
    }
   ],
   "source": [
    "first_name = \"Uraiba\"\n",
    "last_name = \" Faheem\"\n",
    "print(last_name + \" \" + first_name)"
   ]
  },
  {
   "cell_type": "code",
   "execution_count": 3,
   "id": "86b970bf-63ff-43e7-8a0c-3134e559ee83",
   "metadata": {},
   "outputs": [
    {
     "data": {
      "text/plain": [
       "[1, 1, 2, 3, 5, 8, 13, 21, 34, 55, 89]"
      ]
     },
     "execution_count": 3,
     "metadata": {},
     "output_type": "execute_result"
    }
   ],
   "source": [
    "a = [1, 1, 2, 3, 5, 8, 13, 21, 34, 55, 89]\n",
    "a"
   ]
  },
  {
   "cell_type": "code",
   "execution_count": 4,
   "id": "1243585f-d7f0-4380-bba1-5ffb95d67d5a",
   "metadata": {},
   "outputs": [
    {
     "data": {
      "text/plain": [
       "[1, 1, 2, 3]"
      ]
     },
     "execution_count": 4,
     "metadata": {},
     "output_type": "execute_result"
    }
   ],
   "source": [
    "a[0:4]"
   ]
  },
  {
   "cell_type": "code",
   "execution_count": 6,
   "id": "51847cff-4dc9-4ab3-ae0c-9c214a2beba1",
   "metadata": {},
   "outputs": [
    {
     "data": {
      "text/plain": [
       "89"
      ]
     },
     "execution_count": 6,
     "metadata": {},
     "output_type": "execute_result"
    }
   ],
   "source": [
    "a = [1, 1, 2, 3, 5, 8, 13, 21, 34, 55, 89]\n",
    "a[-1]"
   ]
  },
  {
   "cell_type": "code",
   "execution_count": 8,
   "id": "965fd31f-2663-42ac-98c7-dee7283d278b",
   "metadata": {},
   "outputs": [
    {
     "name": "stdout",
     "output_type": "stream",
     "text": [
      "[1, 1, 2, 3, 5, 8, 13, 21, 34, 55, 89]\n"
     ]
    }
   ],
   "source": [
    "print(a)"
   ]
  },
  {
   "cell_type": "code",
   "execution_count": 10,
   "id": "8aedd385-0e93-4570-a887-9f3bc22ca819",
   "metadata": {},
   "outputs": [
    {
     "data": {
      "text/plain": [
       "11"
      ]
     },
     "execution_count": 10,
     "metadata": {},
     "output_type": "execute_result"
    }
   ],
   "source": [
    "len(a)"
   ]
  },
  {
   "cell_type": "code",
   "execution_count": 12,
   "id": "81854fe2-b9a7-42bc-85b8-a7754d84eea4",
   "metadata": {},
   "outputs": [
    {
     "name": "stdout",
     "output_type": "stream",
     "text": [
      "11\n"
     ]
    }
   ],
   "source": [
    "x = 4\n",
    "y = 7\n",
    "print(x+y)"
   ]
  },
  {
   "cell_type": "code",
   "execution_count": 14,
   "id": "a3010f0b-7829-4220-a808-319528693124",
   "metadata": {},
   "outputs": [
    {
     "name": "stdout",
     "output_type": "stream",
     "text": [
      "354\n"
     ]
    }
   ],
   "source": [
    "Maths = 80\n",
    "English = 64\n",
    "Urdu = 63\n",
    "ICT = 75\n",
    "Isl = 72\n",
    "Total_Marks = Maths + English + Urdu + ICT + Isl\n",
    "print(Total_Marks)"
   ]
  },
  {
   "cell_type": "code",
   "execution_count": null,
   "id": "e6fe4081-1b8f-4ea5-a185-f3af67cdf660",
   "metadata": {},
   "outputs": [],
   "source": []
  }
 ],
 "metadata": {
  "kernelspec": {
   "display_name": "Python 3 (ipykernel)",
   "language": "python",
   "name": "python3"
  },
  "language_info": {
   "codemirror_mode": {
    "name": "ipython",
    "version": 3
   },
   "file_extension": ".py",
   "mimetype": "text/x-python",
   "name": "python",
   "nbconvert_exporter": "python",
   "pygments_lexer": "ipython3",
   "version": "3.12.4"
  }
 },
 "nbformat": 4,
 "nbformat_minor": 5
}
