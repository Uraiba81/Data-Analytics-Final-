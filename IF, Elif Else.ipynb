{
 "cells": [
  {
   "cell_type": "code",
   "execution_count": 1,
   "id": "47c652bf-7996-4ba7-9084-2856778561d0",
   "metadata": {},
   "outputs": [
    {
     "name": "stdout",
     "output_type": "stream",
     "text": [
      "* \n",
      "* * \n",
      "* * * \n",
      "* * * * \n",
      "* * * * * \n",
      "* * * * \n",
      "* * * \n",
      "* * \n",
      "* \n"
     ]
    }
   ],
   "source": [
    "n = 5\n",
    "\n",
    "for i in range(1, n + 1):\n",
    "    print(\"* \" * i)\n",
    "\n",
    "# Second part of the pattern\n",
    "for i in range(n - 1, 0, -1):\n",
    "    print(\"* \" * i)"
   ]
  },
  {
   "cell_type": "code",
   "execution_count": 9,
   "id": "41b12cdd-7272-4e39-beb6-af616b6bce63",
   "metadata": {},
   "outputs": [
    {
     "name": "stdin",
     "output_type": "stream",
     "text": [
      "Enter a single alphabet character:  b\n"
     ]
    },
    {
     "name": "stdout",
     "output_type": "stream",
     "text": [
      "The character 'b' is a consonant.\n"
     ]
    }
   ],
   "source": [
    "char = input(\"Enter a single alphabet character: \")\n",
    "\n",
    "# Check if the input is a single character\n",
    "if len(char) != 1 or not char.isalpha():\n",
    "    print(\"Please enter a single alphabet character.\")\n",
    "else:\n",
    "    # Convert to lowercase for uniformity\n",
    "    char = char.lower()\n",
    "\n",
    "    # Define vowels\n",
    "    vowels = 'aeiou'\n",
    "\n",
    "    # Check if the character is a vowel or consonant\n",
    "    if char in vowels:\n",
    "        print(f\"The character '{char}' is a vowel.\")\n",
    "    else:\n",
    "        print(f\"The character '{char}' is a consonant.\")"
   ]
  },
  {
   "cell_type": "code",
   "execution_count": 11,
   "id": "8dfb55b6-4b55-49cc-a991-7f089f53de22",
   "metadata": {},
   "outputs": [
    {
     "name": "stdin",
     "output_type": "stream",
     "text": [
      "Enter a single alphabet character:  a\n"
     ]
    },
    {
     "name": "stdout",
     "output_type": "stream",
     "text": [
      "The character 'a' is a vowel.\n"
     ]
    }
   ],
   "source": [
    "char = input(\"Enter a single alphabet character: \")\n",
    "\n",
    "# Check if the input is a single character\n",
    "if len(char) != 1 or not char.isalpha():\n",
    "    print(\"Please enter a single alphabet character.\")\n",
    "else:\n",
    "    # Convert to lowercase for uniformity\n",
    "    char = char.lower()\n",
    "\n",
    "    # Define vowels\n",
    "    vowels = 'aeiou'\n",
    "\n",
    "    # Check if the character is a vowel or consonant\n",
    "    if char in vowels:\n",
    "        print(f\"The character '{char}' is a vowel.\")\n",
    "    else:\n",
    "        print(f\"The character '{char}' is a consonant.\")\n",
    "        "
   ]
  },
  {
   "cell_type": "code",
   "execution_count": 13,
   "id": "a6b84c7b-424c-4d7f-8dec-764bd78941c1",
   "metadata": {},
   "outputs": [
    {
     "name": "stdin",
     "output_type": "stream",
     "text": [
      "Enter a single alphabet character:  c\n"
     ]
    },
    {
     "name": "stdout",
     "output_type": "stream",
     "text": [
      "The character 'c' is a consonant.\n"
     ]
    }
   ],
   "source": [
    "char = input(\"Enter a single alphabet character: \")\n",
    "\n",
    "# Check if the input is a single character\n",
    "if len(char) != 1 or not char.isalpha():\n",
    "    print(\"Please enter a single alphabet character.\")\n",
    "else:\n",
    "    # Convert to lowercase for uniformity\n",
    "    char = char.lower()\n",
    "\n",
    "    # Define vowels\n",
    "    vowels = 'aeiou'\n",
    "\n",
    "    # Check if the character is a vowel or consonant\n",
    "    if char in vowels:\n",
    "        print(f\"The character '{char}' is a vowel.\")\n",
    "    else:\n",
    "        print(f\"The character '{char}' is a consonant.\")\n",
    "        "
   ]
  },
  {
   "cell_type": "code",
   "execution_count": null,
   "id": "a492f38c-0855-4a39-b1f4-3caf3e060cc7",
   "metadata": {},
   "outputs": [],
   "source": [
    "number = int(input(\"Input a number: \"))\n",
    "\n",
    "# Generate and print the multiplication table\n",
    "for i in range(1, 11):\n",
    "    result = number * i\n",
    "    print(f\"{number} x {i} = {result}\")"
   ]
  },
  {
   "cell_type": "code",
   "execution_count": 18,
   "id": "cce132fb-c59e-4fdd-9789-7cc6eb5880e7",
   "metadata": {},
   "outputs": [
    {
     "name": "stdin",
     "output_type": "stream",
     "text": [
      "input a number: 6\n"
     ]
    },
    {
     "name": "stdout",
     "output_type": "stream",
     "text": [
      "6 x 1 = 6\n",
      "6 x 2 = 12\n",
      "6 x 3 = 18\n",
      "6 x 4 = 24\n",
      "6 x 5 = 30\n",
      "6 x 6 = 36\n",
      "6 x 7 = 42\n",
      "6 x 8 = 48\n",
      "6 x 9 = 54\n",
      "6 x 10 = 60\n"
     ]
    }
   ],
   "source": [
    "number = int(input(\"input a number:\"))\n",
    "for i in range(1,11):\n",
    "    result = number * i\n",
    "    print(f\"{number} x {i} = {result}\")\n"
   ]
  },
  {
   "cell_type": "code",
   "execution_count": 22,
   "id": "23b0291d-0023-4718-a535-59161d2db129",
   "metadata": {},
   "outputs": [
    {
     "name": "stdin",
     "output_type": "stream",
     "text": [
      "Guess a number between 1 and 9:  2\n"
     ]
    },
    {
     "name": "stdout",
     "output_type": "stream",
     "text": [
      "Wrong guess, try again.\n"
     ]
    },
    {
     "name": "stdin",
     "output_type": "stream",
     "text": [
      "Guess a number between 1 and 9:  3\n"
     ]
    },
    {
     "name": "stdout",
     "output_type": "stream",
     "text": [
      "Wrong guess, try again.\n"
     ]
    },
    {
     "name": "stdin",
     "output_type": "stream",
     "text": [
      "Guess a number between 1 and 9:  4\n"
     ]
    },
    {
     "name": "stdout",
     "output_type": "stream",
     "text": [
      "Well guessed!\n"
     ]
    }
   ],
   "source": [
    "import random\n",
    "\n",
    "# Generate a random number between 1 and 9\n",
    "correct_number = random.randint(1, 9)\n",
    "\n",
    "while True:\n",
    "    # Prompt the user to enter their guess\n",
    "    guess = int(input(\"Guess a number between 1 and 9: \"))\n",
    "    \n",
    "    # Check if the guess is correct\n",
    "    if guess == correct_number:\n",
    "        print(\"Well guessed!\")\n",
    "        break  # Exit the loop if the guess is correct\n",
    "    else:\n",
    "        print(\"Wrong guess, try again.\")"
   ]
  },
  {
   "cell_type": "code",
   "execution_count": 36,
   "id": "95b49ea9-0f1c-41f0-b8d3-265189161d49",
   "metadata": {},
   "outputs": [
    {
     "name": "stdout",
     "output_type": "stream",
     "text": [
      "Height > 6ft and Weight > 70kg:\n",
      "{'Cierra Vega': (6.2, 72)}\n"
     ]
    }
   ],
   "source": [
    "students = {\n",
    "    'Cierra Vega': (6.2, 72),\n",
    "    'Alden Cantrell': (5.9, 65),\n",
    "    'Kierra Gentry': (6.0, 68),\n",
    "    'Pierre Cox': (5.8, 66)\n",
    "}\n",
    "filtered_students = {name: (height, weight) for name, (height, weight) in students.items() if height > 6 and weight > 70}\n",
    "print(\"Height > 6ft and Weight > 70kg:\")\n",
    "print(filtered_students)"
   ]
  },
  {
   "cell_type": "code",
   "execution_count": 56,
   "id": "03673b00-ab7e-45ad-b50b-cc1d389ee423",
   "metadata": {},
   "outputs": [
    {
     "name": "stdout",
     "output_type": "stream",
     "text": [
      "Clear the list values in the said dictionary:\n",
      "{'C1': [], 'C2': [], 'C3': []}\n"
     ]
    }
   ],
   "source": [
    "Original_Dictionary = {\n",
    "    'C1': [10, 20, 30],\n",
    "    'C2': [20, 30, 40],\n",
    "    'C3': [12, 34]   \n",
    "}\n",
    "for key in Original_Dictionary:\n",
    "    Original_Dictionary[key].clear()\n",
    "print(\"Clear the list values in the said dictionary:\")\n",
    "print(Original_Dictionary)"
   ]
  },
  {
   "cell_type": "code",
   "execution_count": 68,
   "id": "0f216ad8-8a94-4eb3-bdad-312a71e9e74f",
   "metadata": {},
   "outputs": [
    {
     "name": "stdout",
     "output_type": "stream",
     "text": [
      "The Indus runs through Pakistan.\n",
      "The Nile runs through Egypt.\n",
      "The Amazon runs through Brazil.\n",
      "The Yangtze runs through China.\n",
      "Rivers included in the dictionary:\n",
      "Indus\n",
      "Nile\n",
      "Amazon\n",
      "Yangtze\n",
      "Countries included in the dictionary:\n",
      "China\n",
      "Brazil\n",
      "Egypt\n",
      "Pakistan\n"
     ]
    }
   ],
   "source": [
    "rivers = {\n",
    "    'Indus': 'Pakistan',\n",
    "    'Nile': 'Egypt',\n",
    "    'Amazon': 'Brazil',\n",
    "    'Yangtze': 'China'\n",
    "    \n",
    "}\n",
    "for river, country in rivers.items():\n",
    "  print(f\"The {river} runs through {country}.\")\n",
    "\n",
    "print(\"Rivers included in the dictionary:\")\n",
    "for river in rivers:\n",
    "    print(river)\n",
    "print(\"Countries included in the dictionary:\")\n",
    "for country in set(rivers.values()):\n",
    "    print(country)"
   ]
  },
  {
   "cell_type": "code",
   "execution_count": 70,
   "id": "b808dcf2-9eed-4e37-853c-19ed88d5e4b9",
   "metadata": {},
   "outputs": [
    {
     "name": "stdin",
     "output_type": "stream",
     "text": [
      "Enter your age (or type -1 to exit):  5\n"
     ]
    },
    {
     "name": "stdout",
     "output_type": "stream",
     "text": [
      "The cost of your movie ticket is $10.\n"
     ]
    },
    {
     "name": "stdin",
     "output_type": "stream",
     "text": [
      "Enter your age (or type -1 to exit):  6\n"
     ]
    },
    {
     "name": "stdout",
     "output_type": "stream",
     "text": [
      "The cost of your movie ticket is $10.\n"
     ]
    },
    {
     "name": "stdin",
     "output_type": "stream",
     "text": [
      "Enter your age (or type -1 to exit):  3\n"
     ]
    },
    {
     "name": "stdout",
     "output_type": "stream",
     "text": [
      "The cost of your movie ticket is $10.\n"
     ]
    },
    {
     "name": "stdin",
     "output_type": "stream",
     "text": [
      "Enter your age (or type -1 to exit):  2\n"
     ]
    },
    {
     "name": "stdout",
     "output_type": "stream",
     "text": [
      "The cost of your movie ticket is $0.\n"
     ]
    },
    {
     "name": "stdin",
     "output_type": "stream",
     "text": [
      "Enter your age (or type -1 to exit):  1\n"
     ]
    },
    {
     "name": "stdout",
     "output_type": "stream",
     "text": [
      "The cost of your movie ticket is $0.\n"
     ]
    },
    {
     "name": "stdin",
     "output_type": "stream",
     "text": [
      "Enter your age (or type -1 to exit):  -1\n"
     ]
    },
    {
     "name": "stdout",
     "output_type": "stream",
     "text": [
      "Exiting the ticket pricing system.\n"
     ]
    }
   ],
   "source": [
    "while True:\n",
    "    # Ask the user for their age\n",
    "    age = int(input(\"Enter your age (or type -1 to exit): \"))\n",
    "\n",
    "    # Check if the user wants to exit\n",
    "    if age == -1:\n",
    "        print(\"Exiting the ticket pricing system.\")\n",
    "        break\n",
    "\n",
    "    # Determine the ticket price based on age\n",
    "    if age < 3:\n",
    "        ticket_price = 0\n",
    "    elif 3 <= age <= 12:\n",
    "        ticket_price = 10\n",
    "    else:\n",
    "        ticket_price = 15\n",
    "\n",
    "    # Print the ticket price\n",
    "    print(f\"The cost of your movie ticket is ${ticket_price}.\")"
   ]
  },
  {
   "cell_type": "code",
   "execution_count": null,
   "id": "eb2131bb-9a61-453c-84e0-e6078697a31b",
   "metadata": {},
   "outputs": [],
   "source": []
  }
 ],
 "metadata": {
  "kernelspec": {
   "display_name": "Python 3 (ipykernel)",
   "language": "python",
   "name": "python3"
  },
  "language_info": {
   "codemirror_mode": {
    "name": "ipython",
    "version": 3
   },
   "file_extension": ".py",
   "mimetype": "text/x-python",
   "name": "python",
   "nbconvert_exporter": "python",
   "pygments_lexer": "ipython3",
   "version": "3.12.4"
  }
 },
 "nbformat": 4,
 "nbformat_minor": 5
}
