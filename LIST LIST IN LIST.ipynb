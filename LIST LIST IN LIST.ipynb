{
 "cells": [
  {
   "cell_type": "code",
   "execution_count": 25,
   "id": "0db9551f-8958-48ee-b246-797389bac6e4",
   "metadata": {},
   "outputs": [
    {
     "data": {
      "text/plain": [
       "({'Employee Id': 401, 'Name': 'Hussain', 'Age': 28, 'Department': 'Marketing'},\n",
       " {'Employee Id': 402, 'Name': 'Hamza', 'Age': 30, 'Department': 'Marketing'},\n",
       " {'Employee Id': 403, 'Name': 'Ayesha', 'Age': 25, 'Department': 'Marketing'})"
      ]
     },
     "execution_count": 25,
     "metadata": {},
     "output_type": "execute_result"
    }
   ],
   "source": [
    "\n",
    "Employee_Records = (\n",
    "    {\n",
    "   'Employee Id' : 401,\n",
    "    'Name' : 'Hussain',\n",
    "    'Age': 28,\n",
    "    'Department' : 'Marketing'\n",
    "    },\n",
    "\n",
    "    {\n",
    "    'Employee Id' : 402,\n",
    "    'Name' : 'Hamza',\n",
    "    'Age': 30,\n",
    "    'Department' : 'Marketing'\n",
    "    },\n",
    "    {\n",
    "    'Employee Id' : 403,\n",
    "    'Name' : 'Ayesha',\n",
    "    'Age': 25,\n",
    "    'Department' : 'Marketing'\n",
    "    }\n",
    "        )\n",
    "Employee_Records"
   ]
  },
  {
   "cell_type": "code",
   "execution_count": 29,
   "id": "918bc3c0-2fb3-43af-b819-3e427a4fba3d",
   "metadata": {},
   "outputs": [
    {
     "data": {
      "text/plain": [
       "({'Item Id': 11, 'Description': 'Baking soda', 'Quanity Available': '500 gms'},\n",
       " {'Item Id': 12, 'Description': 'Flour', 'Quanity Available': '2 kg'},\n",
       " {'Item Id': 13,\n",
       "  'Description': 'Coco powder',\n",
       "  'Quanity Available': '2500 gms'})"
      ]
     },
     "execution_count": 29,
     "metadata": {},
     "output_type": "execute_result"
    }
   ],
   "source": [
    "Inventory_System = (\n",
    "    {\n",
    "   'Item Id' : 11,\n",
    "    'Description' : 'Baking soda',\n",
    "    'Quanity Available' : '500 gms'\n",
    "    },\n",
    "\n",
    "    {\n",
    "    'Item Id' : 12,\n",
    "    'Description' : 'Flour',\n",
    "    'Quanity Available' : '2 kg'\n",
    "    },\n",
    "    \n",
    "    {\n",
    "    'Item Id' : 13,\n",
    "    'Description' : 'Coco powder',\n",
    "    'Quanity Available' : '2500 gms'\n",
    "    }\n",
    "        )\n",
    "Inventory_System"
   ]
  },
  {
   "cell_type": "code",
   "execution_count": 31,
   "id": "b17d1205-10c5-4b8a-822a-16370b3213d6",
   "metadata": {},
   "outputs": [
    {
     "data": {
      "text/plain": [
       "({'Date': '9th August 2024', 'Time': '13:00'},\n",
       " {'Date': '9th August 2024', 'Time': '13:30'},\n",
       " {'Date': '9th August 2024', 'Time': '14:00'})"
      ]
     },
     "execution_count": 31,
     "metadata": {},
     "output_type": "execute_result"
    }
   ],
   "source": [
    "scheduled_events = (\n",
    "    {\n",
    "   'Date' : '9th August 2024',\n",
    "    'Time' : '13:00',\n",
    "    },\n",
    "\n",
    "    {\n",
    "    'Date' :'9th August 2024',\n",
    "    'Time' : '13:30',\n",
    "    },\n",
    "    \n",
    "    {\n",
    "  'Date' : '9th August 2024',\n",
    "    'Time' : '14:00',\n",
    "    }\n",
    "        )\n",
    "scheduled_events "
   ]
  },
  {
   "cell_type": "code",
   "execution_count": 33,
   "id": "03ce90d5-6f49-49ec-9f7d-07b3873746e9",
   "metadata": {},
   "outputs": [
    {
     "data": {
      "text/plain": [
       "{'401': {'Name': 'Hussain', 'Age': 28, 'Department': 'Marketing'},\n",
       " '402': {'Name': 'Hamza', 'Age': 30, 'Department': 'Marketing'},\n",
       " '403': {'Name': 'Ayesha', 'Age': 25, 'Department': 'Marketing'}}"
      ]
     },
     "execution_count": 33,
     "metadata": {},
     "output_type": "execute_result"
    }
   ],
   "source": [
    "Employee_details = {\n",
    "\n",
    "'401': {'Name': 'Hussain', 'Age': 28, 'Department': 'Marketing'},\n",
    "'402': {'Name': 'Hamza', 'Age': 30, 'Department': 'Marketing'},\n",
    "'403': {'Name': 'Ayesha', 'Age': 25, 'Department': 'Marketing' }\n",
    " }\n",
    "Employee_details"
   ]
  },
  {
   "cell_type": "code",
   "execution_count": 39,
   "id": "2afba6a4-f9ac-4654-adf3-b2e9acd40beb",
   "metadata": {},
   "outputs": [
    {
     "data": {
      "text/plain": [
       "[{'Maths': 20, 'English': 25, 'Urdu': 24, 'Science': 24.5}]"
      ]
     },
     "execution_count": 39,
     "metadata": {},
     "output_type": "execute_result"
    }
   ],
   "source": [
    "Student_score = [\n",
    "    {'Maths': 20, 'English': 25, 'Urdu':24, 'Science':24.5 }]\n",
    "Student_score"
   ]
  },
  {
   "cell_type": "code",
   "execution_count": 43,
   "id": "bd065f9e-271b-4a17-b29f-b9c33a31e01d",
   "metadata": {},
   "outputs": [
    {
     "data": {
      "text/plain": [
       "['Task 1: Research', 'Task 2: Design', 'Task 3: Implementation']"
      ]
     },
     "execution_count": 43,
     "metadata": {},
     "output_type": "execute_result"
    }
   ],
   "source": [
    "projects = {\n",
    "    \"Project A\": [\"Task 1: Research\", \"Task 2: Design\", \"Task 3: Implementation\"],\n",
    "    \"Project B\": [\"Task 1: Requirement Gathering\", \"Task 2: Development\", \"Task 3: Testing\"],\n",
    "    \"Project C\": [\"Task 1: Planning\", \"Task 2: Execution\", \"Task 3: Review\"]\n",
    "}\n",
    "projects[\"Project A\"]"
   ]
  },
  {
   "cell_type": "code",
   "execution_count": null,
   "id": "c6e2c492-0931-4632-9a69-69d2a5c5fd9b",
   "metadata": {},
   "outputs": [],
   "source": [
    "# details of aspecific module.\n",
    "culinary_program = {\n",
    "    \"Course A\": {\n",
    "        \"Module 1\": {\"Title\": \"Introduction to Culinary Arts\", \"Duration\": \"2 weeks\", \"Content\": \"Basics of cooking, kitchen safety, and hygiene.\"},\n",
    "        \"Module 2\": {\"Title\": \"Vegetable Preparation\", \"Duration\": \"3 weeks\", \"Content\": \"Techniques for chopping, blanching, and preparing vegetables.\"},\n",
    "        \"Module 3\": {\"Title\": \"Meat and Poultry\", \"Duration\": \"4 weeks\", \"Content\": \"Cuts of meat, cooking methods, and poultry preparation.\"}\n",
    "    },\n",
    "    \"Course B\": {\n",
    "        \"Module 1\": {\"Title\": \"Baking Basics\", \"Duration\": \"2 weeks\", \"Content\": \"Introduction to baking, measuring, and basic recipes.\"},\n",
    "        \"Module 2\": {\"Title\": \"Pastry Techniques\", \"Duration\": \"3 weeks\", \"Content\": \"Dough preparation, layering, and pastry fillings.\"},\n",
    "        \"Module 3\": {\"Title\": \"Advanced Baking\", \"Duration\": \"4 weeks\", \"Content\": \"Complex baking recipes and techniques.\"}\n",
    "    },\n",
    "    \"Course C\": {\n",
    "        \"Module 1\": {\"Title\": \"Global Cuisines\", \"Duration\": \"2 weeks\", \"Content\": \"Introduction to various global cuisines and their unique ingredients.\"},\n",
    "        \"Module 2\": {\"Title\": \"French Cuisine\", \"Duration\": \"3 weeks\", \"Content\": \"Classic French dishes, sauces, and cooking techniques.\"},\n",
    "        \"Module 3\": {\"Title\": \"Italian Cuisine\", \"Duration\": \"4 weeks\", \"Content\": \"Italian pasta, sauces, and traditional recipes.\"}\n",
    "    }\n",
    "}\n",
    "culinary_program[\"Course A\"][\"Module 3\"]"
   ]
  },
  {
   "cell_type": "code",
   "execution_count": 67,
   "id": "7a25d959-c523-4205-a517-de18d3977716",
   "metadata": {},
   "outputs": [
    {
     "data": {
      "text/plain": [
       "[('Sugar', 150),\n",
       " ('Eggs', 300),\n",
       " ('Butter', 450),\n",
       " ('Honey', 300),\n",
       " ('Cocopowder', 750)]"
      ]
     },
     "execution_count": 67,
     "metadata": {},
     "output_type": "execute_result"
    }
   ],
   "source": [
    "Inventory_Purchase = [\n",
    "    (\"Sugar\", 150),\n",
    "    (\"Eggs\", 300),\n",
    "    (\"Butter\", 450),\n",
    "    (\"Honey\", 300),\n",
    "    (\"Cocopowder\", 750)\n",
    "]\n",
    "Inventory_Purchase "
   ]
  },
  {
   "cell_type": "code",
   "execution_count": 71,
   "id": "a330bc9f-0df4-4808-b709-9bc44be9f760",
   "metadata": {},
   "outputs": [
    {
     "data": {
      "text/plain": [
       "(('Sugar', 150), ('Eggs', 300), ('Butter', 450), ('Honey', 300))"
      ]
     },
     "execution_count": 71,
     "metadata": {},
     "output_type": "execute_result"
    }
   ],
   "source": [
    "(c1,c2,c3,c4,c5) = Inventory_Purchase \n",
    "c1,c2,c3,c4"
   ]
  },
  {
   "cell_type": "code",
   "execution_count": null,
   "id": "6e85b9a7-b063-4a49-a891-3159893b0157",
   "metadata": {},
   "outputs": [],
   "source": []
  }
 ],
 "metadata": {
  "kernelspec": {
   "display_name": "Python 3 (ipykernel)",
   "language": "python",
   "name": "python3"
  },
  "language_info": {
   "codemirror_mode": {
    "name": "ipython",
    "version": 3
   },
   "file_extension": ".py",
   "mimetype": "text/x-python",
   "name": "python",
   "nbconvert_exporter": "python",
   "pygments_lexer": "ipython3",
   "version": "3.12.4"
  }
 },
 "nbformat": 4,
 "nbformat_minor": 5
}
