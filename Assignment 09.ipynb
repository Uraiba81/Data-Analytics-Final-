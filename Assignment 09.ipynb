{
 "cells": [
  {
   "cell_type": "markdown",
   "id": "3a2475cc-e44d-4400-b741-20d868620577",
   "metadata": {},
   "source": [
    "NUMPY"
   ]
  },
  {
   "cell_type": "code",
   "execution_count": 21,
   "id": "74757c54-98a4-4dc0-8ca5-15a10cb3c098",
   "metadata": {},
   "outputs": [
    {
     "data": {
      "text/plain": [
       "array([120, 150, 100, 180, 200, 170, 130])"
      ]
     },
     "execution_count": 21,
     "metadata": {},
     "output_type": "execute_result"
    }
   ],
   "source": [
    "#Imagine we are managing a restaurant and analyzing data such as the \n",
    "#number of meals served per day, revenue, and other statistics. \n",
    "#We'll use NumPy to calculate this data.\n",
    "\n",
    "import numpy as np\n",
    "\n",
    "# Number of meals served per day\n",
    "\n",
    "meals_served = np.array([120,150,100,180,200,170,130])\n",
    "meals_served"
   ]
  },
  {
   "cell_type": "code",
   "execution_count": 13,
   "id": "938d0eaa-923b-4c08-a15e-2958cf7db4e6",
   "metadata": {},
   "outputs": [
    {
     "data": {
      "text/plain": [
       "array([2400, 3000, 2000, 3600, 4000, 3400, 2600])"
      ]
     },
     "execution_count": 13,
     "metadata": {},
     "output_type": "execute_result"
    }
   ],
   "source": [
    "# Revenue per day (in USD)\n",
    "revenue = np.array([2400, 3000, 2000, 3600, 4000, 3400, 2600])\n",
    "revenue"
   ]
  },
  {
   "cell_type": "code",
   "execution_count": 27,
   "id": "6064d65a-5f03-43c1-ba45-5a6f410ab3bd",
   "metadata": {},
   "outputs": [
    {
     "data": {
      "text/plain": [
       "array([20., 20., 20., 20., 20., 20., 20.])"
      ]
     },
     "execution_count": 27,
     "metadata": {},
     "output_type": "execute_result"
    }
   ],
   "source": [
    "revenue_per_meal = revenue / meals_served\n",
    "revenue_per_meal"
   ]
  },
  {
   "cell_type": "code",
   "execution_count": 33,
   "id": "9e571b73-ec2d-4c31-8630-233ae3f21b90",
   "metadata": {},
   "outputs": [
    {
     "data": {
      "text/plain": [
       "array([170, 200, 150, 230, 250, 220, 180])"
      ]
     },
     "execution_count": 33,
     "metadata": {},
     "output_type": "execute_result"
    }
   ],
   "source": [
    "#Add 50 more meals to each day (e.g., a new marketing campaign)\n",
    "meals_add = meals_served + 50\n",
    "meals_add"
   ]
  },
  {
   "cell_type": "code",
   "execution_count": 39,
   "id": "bf09f540-0998-455c-bd72-0da72393cfbf",
   "metadata": {},
   "outputs": [
    {
     "data": {
      "text/plain": [
       "array([ 90, 120,  70, 150, 170, 140, 100])"
      ]
     },
     "execution_count": 39,
     "metadata": {},
     "output_type": "execute_result"
    }
   ],
   "source": [
    "# Subtract 30 meals (low season effect)\n",
    "meals_sub = meals_served - 30\n",
    "meals_sub"
   ]
  },
  {
   "cell_type": "code",
   "execution_count": 43,
   "id": "0b336906-6a50-40d2-a711-2ec0a09755da",
   "metadata": {},
   "outputs": [
    {
     "data": {
      "text/plain": [
       "array([240, 300, 200, 360, 400, 340, 260])"
      ]
     },
     "execution_count": 43,
     "metadata": {},
     "output_type": "execute_result"
    }
   ],
   "source": [
    "# Multiply meals by 2 (e.g., for weekend projections)\n",
    "meals_mul = meals_served * 2\n",
    "meals_mul"
   ]
  },
  {
   "cell_type": "code",
   "execution_count": 47,
   "id": "19a64f0f-2499-4340-bc18-16e8e5e4e884",
   "metadata": {},
   "outputs": [
    {
     "data": {
      "text/plain": [
       "array([1200., 1500., 1000., 1800., 2000., 1700., 1300.])"
      ]
     },
     "execution_count": 47,
     "metadata": {},
     "output_type": "execute_result"
    }
   ],
   "source": [
    "# Divide revenue by 2 (e.g., to get half-week data)\n",
    "revenue_half = revenue / 2\n",
    "revenue_half"
   ]
  },
  {
   "cell_type": "code",
   "execution_count": 51,
   "id": "48d56e97-f782-41e6-9fb7-ea08fe9def7c",
   "metadata": {},
   "outputs": [
    {
     "data": {
      "text/plain": [
       "100"
      ]
     },
     "execution_count": 51,
     "metadata": {},
     "output_type": "execute_result"
    }
   ],
   "source": [
    "# Access the number of meals served on day 3 (index 2)\n",
    "meals_day3 = meals_served[2]\n",
    "meals_day3\n"
   ]
  },
  {
   "cell_type": "code",
   "execution_count": 53,
   "id": "ebab4f59-84b0-4bd8-8ab1-d47ab3da2ef1",
   "metadata": {},
   "outputs": [
    {
     "data": {
      "text/plain": [
       "array([150, 100, 180])"
      ]
     },
     "execution_count": 53,
     "metadata": {},
     "output_type": "execute_result"
    }
   ],
   "source": [
    "# Access the number of meals served from day 2 to day 4 (index 1 to 3)\n",
    "meals_subset = meals_served[1:4]\n",
    "meals_subset"
   ]
  },
  {
   "cell_type": "code",
   "execution_count": 55,
   "id": "cc59a909-5bfd-41c0-a4c1-5e9e939c4e31",
   "metadata": {},
   "outputs": [
    {
     "data": {
      "text/plain": [
       "4000"
      ]
     },
     "execution_count": 55,
     "metadata": {},
     "output_type": "execute_result"
    }
   ],
   "source": [
    "# Access the revenue on day 5 (index 4)\n",
    "revenue_day5 = revenue[4]\n",
    "revenue_day5\n"
   ]
  },
  {
   "cell_type": "code",
   "execution_count": 57,
   "id": "45809e12-bbae-46dc-8a65-08b40a207a30",
   "metadata": {},
   "outputs": [
    {
     "data": {
      "text/plain": [
       "array([[120],\n",
       "       [150],\n",
       "       [100],\n",
       "       [180],\n",
       "       [200],\n",
       "       [170],\n",
       "       [130]])"
      ]
     },
     "execution_count": 57,
     "metadata": {},
     "output_type": "execute_result"
    }
   ],
   "source": [
    "# Reshape meals served into a 7x1 matrix (useful for reports)\n",
    "reshaped_meals = meals_served.reshape(7, 1)\n",
    "reshaped_meals"
   ]
  },
  {
   "cell_type": "code",
   "execution_count": 61,
   "id": "91aba79d-87a1-4b41-ba23-7b3b630ce3ea",
   "metadata": {},
   "outputs": [
    {
     "data": {
      "text/plain": [
       "array([[2400],\n",
       "       [3000],\n",
       "       [2000],\n",
       "       [3600],\n",
       "       [4000],\n",
       "       [3400],\n",
       "       [2600]])"
      ]
     },
     "execution_count": 61,
     "metadata": {},
     "output_type": "execute_result"
    }
   ],
   "source": [
    "# Reshape revenue into a 7x1 matrix\n",
    "reshaped_revenue = revenue.reshape(7, 1)\n",
    "reshaped_revenue"
   ]
  },
  {
   "cell_type": "code",
   "execution_count": 63,
   "id": "2898c3ef-d872-46ac-80c3-0f9b4dfa829b",
   "metadata": {},
   "outputs": [
    {
     "data": {
      "text/plain": [
       "array([[ 120,  150,  100,  180,  200,  170,  130],\n",
       "       [2400, 3000, 2000, 3600, 4000, 3400, 2600]])"
      ]
     },
     "execution_count": 63,
     "metadata": {},
     "output_type": "execute_result"
    }
   ],
   "source": [
    "# Create a matrix with meals and revenue\n",
    "data_matrix = np.array([meals_served, revenue])\n",
    "data_matrix"
   ]
  },
  {
   "cell_type": "code",
   "execution_count": 67,
   "id": "b20120df-c8e5-49a1-b7b1-b156c025a2cf",
   "metadata": {},
   "outputs": [
    {
     "data": {
      "text/plain": [
       "array([[ 120, 2400],\n",
       "       [ 150, 3000],\n",
       "       [ 100, 2000],\n",
       "       [ 180, 3600],\n",
       "       [ 200, 4000],\n",
       "       [ 170, 3400],\n",
       "       [ 130, 2600]])"
      ]
     },
     "execution_count": 67,
     "metadata": {},
     "output_type": "execute_result"
    }
   ],
   "source": [
    "# Transpose the matrix to switch rows and columns\n",
    "transposed_data = data_matrix.T\n",
    "transposed_data\n"
   ]
  },
  {
   "cell_type": "code",
   "execution_count": 69,
   "id": "47812ab0-566d-415c-9412-045e3269c047",
   "metadata": {},
   "outputs": [
    {
     "data": {
      "text/plain": [
       "150.0"
      ]
     },
     "execution_count": 69,
     "metadata": {},
     "output_type": "execute_result"
    }
   ],
   "source": [
    "avg_meals = np.mean(meals_served)\n",
    "avg_meals"
   ]
  },
  {
   "cell_type": "code",
   "execution_count": 71,
   "id": "7a06e0c7-f499-41c1-8dff-1b4eb63cedd9",
   "metadata": {},
   "outputs": [
    {
     "data": {
      "text/plain": [
       "3000.0"
      ]
     },
     "execution_count": 71,
     "metadata": {},
     "output_type": "execute_result"
    }
   ],
   "source": [
    "median_revenue = np.median(revenue)\n",
    "median_revenue"
   ]
  },
  {
   "cell_type": "code",
   "execution_count": 77,
   "id": "cb9273e6-89a0-43af-a848-79426bb2f044",
   "metadata": {},
   "outputs": [
    {
     "data": {
      "text/plain": [
       "32.95017884191656"
      ]
     },
     "execution_count": 77,
     "metadata": {},
     "output_type": "execute_result"
    }
   ],
   "source": [
    "# Calculate the standard deviation of meals served\n",
    "std_meals = np.std(meals_served)\n",
    "std_meals"
   ]
  },
  {
   "cell_type": "code",
   "execution_count": 81,
   "id": "465aa487-2c24-4402-b584-b45c6744b33f",
   "metadata": {},
   "outputs": [
    {
     "data": {
      "text/plain": [
       "434285.71428571426"
      ]
     },
     "execution_count": 81,
     "metadata": {},
     "output_type": "execute_result"
    }
   ],
   "source": [
    "# Calculate the variance in revenue\n",
    "variance_revenue = np.var(revenue)\n",
    "variance_revenue\n"
   ]
  },
  {
   "cell_type": "code",
   "execution_count": 85,
   "id": "2ae62c4e-1ce3-4209-bb94-af4cb4b48820",
   "metadata": {},
   "outputs": [
    {
     "data": {
      "text/plain": [
       "array([ True,  True, False,  True,  True, False,  True])"
      ]
     },
     "execution_count": 85,
     "metadata": {},
     "output_type": "execute_result"
    }
   ],
   "source": [
    "# Staff presence for each day (1 means fully staffed, 0 means partially staffed)\n",
    "staff_presence = np.array([True, True, False, True, True, False, True], dtype=bool)\n",
    "staff_presence"
   ]
  },
  {
   "cell_type": "code",
   "execution_count": 87,
   "id": "5bb743a4-a65d-4511-836d-8f79aa3b3ccb",
   "metadata": {},
   "outputs": [
    {
     "data": {
      "text/plain": [
       "array(['Downtown Diner', 'Seaside Eatery', 'Mountain Grill'], dtype='<U14')"
      ]
     },
     "execution_count": 87,
     "metadata": {},
     "output_type": "execute_result"
    }
   ],
   "source": [
    "# Names of different restaurants in a chain\n",
    "restaurant_names = np.array([\"Downtown Diner\", \"Seaside Eatery\", \"Mountain Grill\"], dtype=str)\n",
    "restaurant_names"
   ]
  },
  {
   "cell_type": "code",
   "execution_count": 89,
   "id": "ebd49010-8547-4585-8a07-7b00268d48f3",
   "metadata": {},
   "outputs": [
    {
     "data": {
      "text/plain": [
       "array([120, 150, 100, 180, 200, 170, 130, 140, 160, 110, 190, 210, 180,\n",
       "       140])"
      ]
     },
     "execution_count": 89,
     "metadata": {},
     "output_type": "execute_result"
    }
   ],
   "source": [
    "# Data from another week\n",
    "meals_next_week = np.array([140, 160, 110, 190, 210, 180, 140])\n",
    "# Concatenate the two weeks' meal data\n",
    "meals_two_weeks = np.concatenate ([meals_served, meals_next_week])\n",
    "meals_two_weeks"
   ]
  },
  {
   "cell_type": "code",
   "execution_count": 91,
   "id": "e31adf15-b0ae-48fd-b24d-7eca4ba022ea",
   "metadata": {},
   "outputs": [
    {
     "data": {
      "text/plain": [
       "array([100, 120, 130, 150, 170, 180, 200])"
      ]
     },
     "execution_count": 91,
     "metadata": {},
     "output_type": "execute_result"
    }
   ],
   "source": [
    "# Sort meals served in ascending order\n",
    "sorted_meals_asc = np.sort(meals_served)\n",
    "sorted_meals_asc"
   ]
  },
  {
   "cell_type": "code",
   "execution_count": 93,
   "id": "21fda923-dbb8-4de9-9620-d6a3ed0317b7",
   "metadata": {},
   "outputs": [
    {
     "data": {
      "text/plain": [
       "array([4000, 3600, 3400, 3000, 2600, 2400, 2000])"
      ]
     },
     "execution_count": 93,
     "metadata": {},
     "output_type": "execute_result"
    }
   ],
   "source": [
    "# Sort revenue in descending order\n",
    "sorted_revenue_desc = np.sort(revenue)[::-1]\n",
    "sorted_revenue_desc"
   ]
  },
  {
   "cell_type": "code",
   "execution_count": null,
   "id": "876b68dc-05a3-465b-b7e7-2d6ed5cc0d64",
   "metadata": {},
   "outputs": [],
   "source": [
    "\n"
   ]
  },
  {
   "cell_type": "markdown",
   "id": "f33f6687-48a8-47b7-bed4-db862b456ed8",
   "metadata": {},
   "source": [
    "PANDAS"
   ]
  },
  {
   "cell_type": "code",
   "execution_count": 104,
   "id": "40e9d4b9-6f3a-4a97-a4eb-db0e26096b10",
   "metadata": {},
   "outputs": [
    {
     "data": {
      "text/html": [
       "<div>\n",
       "<style scoped>\n",
       "    .dataframe tbody tr th:only-of-type {\n",
       "        vertical-align: middle;\n",
       "    }\n",
       "\n",
       "    .dataframe tbody tr th {\n",
       "        vertical-align: top;\n",
       "    }\n",
       "\n",
       "    .dataframe thead th {\n",
       "        text-align: right;\n",
       "    }\n",
       "</style>\n",
       "<table border=\"1\" class=\"dataframe\">\n",
       "  <thead>\n",
       "    <tr style=\"text-align: right;\">\n",
       "      <th></th>\n",
       "      <th>GPA</th>\n",
       "      <th>Gender</th>\n",
       "      <th>breakfast</th>\n",
       "      <th>calories_chicken</th>\n",
       "      <th>calories_day</th>\n",
       "      <th>calories_scone</th>\n",
       "      <th>coffee</th>\n",
       "      <th>comfort_food</th>\n",
       "      <th>comfort_food_reasons</th>\n",
       "      <th>comfort_food_reasons_coded</th>\n",
       "      <th>...</th>\n",
       "      <th>soup</th>\n",
       "      <th>sports</th>\n",
       "      <th>thai_food</th>\n",
       "      <th>tortilla_calories</th>\n",
       "      <th>turkey_calories</th>\n",
       "      <th>type_sports</th>\n",
       "      <th>veggies_day</th>\n",
       "      <th>vitamins</th>\n",
       "      <th>waffle_calories</th>\n",
       "      <th>weight</th>\n",
       "    </tr>\n",
       "  </thead>\n",
       "  <tbody>\n",
       "    <tr>\n",
       "      <th>0</th>\n",
       "      <td>2.4</td>\n",
       "      <td>2</td>\n",
       "      <td>1</td>\n",
       "      <td>430</td>\n",
       "      <td>NaN</td>\n",
       "      <td>315.0</td>\n",
       "      <td>1</td>\n",
       "      <td>none</td>\n",
       "      <td>we dont have comfort</td>\n",
       "      <td>9.0</td>\n",
       "      <td>...</td>\n",
       "      <td>1.0</td>\n",
       "      <td>1.0</td>\n",
       "      <td>1</td>\n",
       "      <td>1165.0</td>\n",
       "      <td>345</td>\n",
       "      <td>car racing</td>\n",
       "      <td>5</td>\n",
       "      <td>1</td>\n",
       "      <td>1315</td>\n",
       "      <td>187</td>\n",
       "    </tr>\n",
       "    <tr>\n",
       "      <th>1</th>\n",
       "      <td>3.654</td>\n",
       "      <td>1</td>\n",
       "      <td>1</td>\n",
       "      <td>610</td>\n",
       "      <td>3.0</td>\n",
       "      <td>420.0</td>\n",
       "      <td>2</td>\n",
       "      <td>chocolate, chips, ice cream</td>\n",
       "      <td>Stress, bored, anger</td>\n",
       "      <td>1.0</td>\n",
       "      <td>...</td>\n",
       "      <td>1.0</td>\n",
       "      <td>1.0</td>\n",
       "      <td>2</td>\n",
       "      <td>725.0</td>\n",
       "      <td>690</td>\n",
       "      <td>Basketball</td>\n",
       "      <td>4</td>\n",
       "      <td>2</td>\n",
       "      <td>900</td>\n",
       "      <td>155</td>\n",
       "    </tr>\n",
       "    <tr>\n",
       "      <th>2</th>\n",
       "      <td>3.3</td>\n",
       "      <td>1</td>\n",
       "      <td>1</td>\n",
       "      <td>720</td>\n",
       "      <td>4.0</td>\n",
       "      <td>420.0</td>\n",
       "      <td>2</td>\n",
       "      <td>frozen yogurt, pizza, fast food</td>\n",
       "      <td>stress, sadness</td>\n",
       "      <td>1.0</td>\n",
       "      <td>...</td>\n",
       "      <td>1.0</td>\n",
       "      <td>2.0</td>\n",
       "      <td>5</td>\n",
       "      <td>1165.0</td>\n",
       "      <td>500</td>\n",
       "      <td>none</td>\n",
       "      <td>5</td>\n",
       "      <td>1</td>\n",
       "      <td>900</td>\n",
       "      <td>I'm not answering this.</td>\n",
       "    </tr>\n",
       "    <tr>\n",
       "      <th>3</th>\n",
       "      <td>3.2</td>\n",
       "      <td>1</td>\n",
       "      <td>1</td>\n",
       "      <td>430</td>\n",
       "      <td>3.0</td>\n",
       "      <td>420.0</td>\n",
       "      <td>2</td>\n",
       "      <td>Pizza, Mac and cheese, ice cream</td>\n",
       "      <td>Boredom</td>\n",
       "      <td>2.0</td>\n",
       "      <td>...</td>\n",
       "      <td>1.0</td>\n",
       "      <td>2.0</td>\n",
       "      <td>5</td>\n",
       "      <td>725.0</td>\n",
       "      <td>690</td>\n",
       "      <td>NaN</td>\n",
       "      <td>3</td>\n",
       "      <td>1</td>\n",
       "      <td>1315</td>\n",
       "      <td>Not sure, 240</td>\n",
       "    </tr>\n",
       "    <tr>\n",
       "      <th>4</th>\n",
       "      <td>3.5</td>\n",
       "      <td>1</td>\n",
       "      <td>1</td>\n",
       "      <td>720</td>\n",
       "      <td>2.0</td>\n",
       "      <td>420.0</td>\n",
       "      <td>2</td>\n",
       "      <td>Ice cream, chocolate, chips</td>\n",
       "      <td>Stress, boredom, cravings</td>\n",
       "      <td>1.0</td>\n",
       "      <td>...</td>\n",
       "      <td>1.0</td>\n",
       "      <td>1.0</td>\n",
       "      <td>4</td>\n",
       "      <td>940.0</td>\n",
       "      <td>500</td>\n",
       "      <td>Softball</td>\n",
       "      <td>4</td>\n",
       "      <td>2</td>\n",
       "      <td>760</td>\n",
       "      <td>190</td>\n",
       "    </tr>\n",
       "    <tr>\n",
       "      <th>...</th>\n",
       "      <td>...</td>\n",
       "      <td>...</td>\n",
       "      <td>...</td>\n",
       "      <td>...</td>\n",
       "      <td>...</td>\n",
       "      <td>...</td>\n",
       "      <td>...</td>\n",
       "      <td>...</td>\n",
       "      <td>...</td>\n",
       "      <td>...</td>\n",
       "      <td>...</td>\n",
       "      <td>...</td>\n",
       "      <td>...</td>\n",
       "      <td>...</td>\n",
       "      <td>...</td>\n",
       "      <td>...</td>\n",
       "      <td>...</td>\n",
       "      <td>...</td>\n",
       "      <td>...</td>\n",
       "      <td>...</td>\n",
       "      <td>...</td>\n",
       "    </tr>\n",
       "    <tr>\n",
       "      <th>120</th>\n",
       "      <td>3.5</td>\n",
       "      <td>1</td>\n",
       "      <td>1</td>\n",
       "      <td>610</td>\n",
       "      <td>4.0</td>\n",
       "      <td>420.0</td>\n",
       "      <td>2</td>\n",
       "      <td>wine. mac and cheese, pizza, ice cream</td>\n",
       "      <td>boredom and sadness</td>\n",
       "      <td>NaN</td>\n",
       "      <td>...</td>\n",
       "      <td>1.0</td>\n",
       "      <td>1.0</td>\n",
       "      <td>5</td>\n",
       "      <td>940.0</td>\n",
       "      <td>500</td>\n",
       "      <td>Softball</td>\n",
       "      <td>5</td>\n",
       "      <td>1</td>\n",
       "      <td>1315</td>\n",
       "      <td>156</td>\n",
       "    </tr>\n",
       "    <tr>\n",
       "      <th>121</th>\n",
       "      <td>3</td>\n",
       "      <td>1</td>\n",
       "      <td>1</td>\n",
       "      <td>265</td>\n",
       "      <td>2.0</td>\n",
       "      <td>315.0</td>\n",
       "      <td>2</td>\n",
       "      <td>Pizza / Wings / Cheesecake</td>\n",
       "      <td>Loneliness / Homesick / Sadness</td>\n",
       "      <td>NaN</td>\n",
       "      <td>...</td>\n",
       "      <td>1.0</td>\n",
       "      <td>NaN</td>\n",
       "      <td>4</td>\n",
       "      <td>940.0</td>\n",
       "      <td>500</td>\n",
       "      <td>basketball</td>\n",
       "      <td>5</td>\n",
       "      <td>2</td>\n",
       "      <td>1315</td>\n",
       "      <td>180</td>\n",
       "    </tr>\n",
       "    <tr>\n",
       "      <th>122</th>\n",
       "      <td>3.882</td>\n",
       "      <td>1</td>\n",
       "      <td>1</td>\n",
       "      <td>720</td>\n",
       "      <td>NaN</td>\n",
       "      <td>420.0</td>\n",
       "      <td>1</td>\n",
       "      <td>rice, potato, seaweed soup</td>\n",
       "      <td>sadness</td>\n",
       "      <td>NaN</td>\n",
       "      <td>...</td>\n",
       "      <td>1.0</td>\n",
       "      <td>2.0</td>\n",
       "      <td>5</td>\n",
       "      <td>580.0</td>\n",
       "      <td>690</td>\n",
       "      <td>none</td>\n",
       "      <td>4</td>\n",
       "      <td>2</td>\n",
       "      <td>1315</td>\n",
       "      <td>120</td>\n",
       "    </tr>\n",
       "    <tr>\n",
       "      <th>123</th>\n",
       "      <td>3</td>\n",
       "      <td>2</td>\n",
       "      <td>1</td>\n",
       "      <td>720</td>\n",
       "      <td>4.0</td>\n",
       "      <td>420.0</td>\n",
       "      <td>1</td>\n",
       "      <td>Mac n Cheese, Lasagna, Pizza</td>\n",
       "      <td>happiness, they are some of my favorite foods</td>\n",
       "      <td>NaN</td>\n",
       "      <td>...</td>\n",
       "      <td>2.0</td>\n",
       "      <td>2.0</td>\n",
       "      <td>1</td>\n",
       "      <td>940.0</td>\n",
       "      <td>500</td>\n",
       "      <td>NaN</td>\n",
       "      <td>3</td>\n",
       "      <td>1</td>\n",
       "      <td>1315</td>\n",
       "      <td>135</td>\n",
       "    </tr>\n",
       "    <tr>\n",
       "      <th>124</th>\n",
       "      <td>3.9</td>\n",
       "      <td>1</td>\n",
       "      <td>1</td>\n",
       "      <td>430</td>\n",
       "      <td>NaN</td>\n",
       "      <td>315.0</td>\n",
       "      <td>2</td>\n",
       "      <td>Chocolates, pizza, and Ritz.</td>\n",
       "      <td>hormones, Premenstrual syndrome.</td>\n",
       "      <td>NaN</td>\n",
       "      <td>...</td>\n",
       "      <td>1.0</td>\n",
       "      <td>2.0</td>\n",
       "      <td>2</td>\n",
       "      <td>725.0</td>\n",
       "      <td>345</td>\n",
       "      <td>NaN</td>\n",
       "      <td>4</td>\n",
       "      <td>2</td>\n",
       "      <td>575</td>\n",
       "      <td>135</td>\n",
       "    </tr>\n",
       "  </tbody>\n",
       "</table>\n",
       "<p>125 rows × 61 columns</p>\n",
       "</div>"
      ],
      "text/plain": [
       "       GPA  Gender  breakfast  calories_chicken  calories_day  calories_scone  \\\n",
       "0      2.4       2          1               430           NaN           315.0   \n",
       "1    3.654       1          1               610           3.0           420.0   \n",
       "2      3.3       1          1               720           4.0           420.0   \n",
       "3      3.2       1          1               430           3.0           420.0   \n",
       "4      3.5       1          1               720           2.0           420.0   \n",
       "..     ...     ...        ...               ...           ...             ...   \n",
       "120    3.5       1          1               610           4.0           420.0   \n",
       "121      3       1          1               265           2.0           315.0   \n",
       "122  3.882       1          1               720           NaN           420.0   \n",
       "123      3       2          1               720           4.0           420.0   \n",
       "124    3.9       1          1               430           NaN           315.0   \n",
       "\n",
       "     coffee                             comfort_food  \\\n",
       "0         1                                     none   \n",
       "1         2              chocolate, chips, ice cream   \n",
       "2         2          frozen yogurt, pizza, fast food   \n",
       "3         2         Pizza, Mac and cheese, ice cream   \n",
       "4         2             Ice cream, chocolate, chips    \n",
       "..      ...                                      ...   \n",
       "120       2  wine. mac and cheese, pizza, ice cream    \n",
       "121       2               Pizza / Wings / Cheesecake   \n",
       "122       1               rice, potato, seaweed soup   \n",
       "123       1             Mac n Cheese, Lasagna, Pizza   \n",
       "124       2             Chocolates, pizza, and Ritz.   \n",
       "\n",
       "                              comfort_food_reasons  \\\n",
       "0                            we dont have comfort    \n",
       "1                             Stress, bored, anger   \n",
       "2                                  stress, sadness   \n",
       "3                                          Boredom   \n",
       "4                       Stress, boredom, cravings    \n",
       "..                                             ...   \n",
       "120                           boredom and sadness    \n",
       "121                Loneliness / Homesick / Sadness   \n",
       "122                                        sadness   \n",
       "123  happiness, they are some of my favorite foods   \n",
       "124               hormones, Premenstrual syndrome.   \n",
       "\n",
       "     comfort_food_reasons_coded  ...  soup  sports  thai_food  \\\n",
       "0                           9.0  ...   1.0     1.0          1   \n",
       "1                           1.0  ...   1.0     1.0          2   \n",
       "2                           1.0  ...   1.0     2.0          5   \n",
       "3                           2.0  ...   1.0     2.0          5   \n",
       "4                           1.0  ...   1.0     1.0          4   \n",
       "..                          ...  ...   ...     ...        ...   \n",
       "120                         NaN  ...   1.0     1.0          5   \n",
       "121                         NaN  ...   1.0     NaN          4   \n",
       "122                         NaN  ...   1.0     2.0          5   \n",
       "123                         NaN  ...   2.0     2.0          1   \n",
       "124                         NaN  ...   1.0     2.0          2   \n",
       "\n",
       "    tortilla_calories  turkey_calories  type_sports veggies_day  vitamins  \\\n",
       "0              1165.0              345   car racing           5         1   \n",
       "1               725.0              690  Basketball            4         2   \n",
       "2              1165.0              500         none           5         1   \n",
       "3               725.0              690          NaN           3         1   \n",
       "4               940.0              500     Softball           4         2   \n",
       "..                ...              ...          ...         ...       ...   \n",
       "120             940.0              500     Softball           5         1   \n",
       "121             940.0              500  basketball            5         2   \n",
       "122             580.0              690         none           4         2   \n",
       "123             940.0              500          NaN           3         1   \n",
       "124             725.0              345          NaN           4         2   \n",
       "\n",
       "     waffle_calories                    weight  \n",
       "0               1315                       187  \n",
       "1                900                       155  \n",
       "2                900  I'm not answering this.   \n",
       "3               1315             Not sure, 240  \n",
       "4                760                       190  \n",
       "..               ...                       ...  \n",
       "120             1315                       156  \n",
       "121             1315                       180  \n",
       "122             1315                       120  \n",
       "123             1315                       135  \n",
       "124              575                       135  \n",
       "\n",
       "[125 rows x 61 columns]"
      ]
     },
     "execution_count": 104,
     "metadata": {},
     "output_type": "execute_result"
    }
   ],
   "source": [
    "import pandas as pd\n",
    "df = pd.read_csv('food_coded.csv')\n",
    "df\n",
    "#Food choices and preferences of college students"
   ]
  },
  {
   "cell_type": "code",
   "execution_count": 106,
   "id": "43bcf4f7-18be-422e-96bd-e5dde4ac09c9",
   "metadata": {},
   "outputs": [
    {
     "name": "stdout",
     "output_type": "stream",
     "text": [
      "(125, 61)\n"
     ]
    }
   ],
   "source": [
    "print(df.shape)"
   ]
  },
  {
   "cell_type": "code",
   "execution_count": 110,
   "id": "534ab52b-2c56-4e81-aebe-94ddcb8f125b",
   "metadata": {},
   "outputs": [
    {
     "name": "stdout",
     "output_type": "stream",
     "text": [
      "GPA                  object\n",
      "Gender                int64\n",
      "breakfast             int64\n",
      "calories_chicken      int64\n",
      "calories_day        float64\n",
      "                     ...   \n",
      "type_sports          object\n",
      "veggies_day           int64\n",
      "vitamins              int64\n",
      "waffle_calories       int64\n",
      "weight               object\n",
      "Length: 61, dtype: object\n"
     ]
    }
   ],
   "source": [
    "print(df.dtypes)"
   ]
  },
  {
   "cell_type": "code",
   "execution_count": 112,
   "id": "1b7833d8-8f44-4ac9-84f4-f497dfe75d4f",
   "metadata": {},
   "outputs": [
    {
     "name": "stdout",
     "output_type": "stream",
     "text": [
      "GPA                  2\n",
      "Gender               0\n",
      "breakfast            0\n",
      "calories_chicken     0\n",
      "calories_day        19\n",
      "                    ..\n",
      "type_sports         26\n",
      "veggies_day          0\n",
      "vitamins             0\n",
      "waffle_calories      0\n",
      "weight               2\n",
      "Length: 61, dtype: int64\n"
     ]
    }
   ],
   "source": [
    "print(df.isnull().sum())"
   ]
  },
  {
   "cell_type": "code",
   "execution_count": 114,
   "id": "0890d186-ebc6-4ba2-a11e-72059b9e83ef",
   "metadata": {},
   "outputs": [
    {
     "name": "stdout",
     "output_type": "stream",
     "text": [
      "       GPA  Gender  breakfast  calories_chicken  calories_day  calories_scone  \\\n",
      "0      2.4       2          1               430           NaN           315.0   \n",
      "3      3.2       1          1               430           3.0           420.0   \n",
      "5     2.25       1          1               610           3.0           980.0   \n",
      "8      3.3       1          1               430           NaN           420.0   \n",
      "15     NaN       2          2               430           NaN           980.0   \n",
      "..     ...     ...        ...               ...           ...             ...   \n",
      "120    3.5       1          1               610           4.0           420.0   \n",
      "121      3       1          1               265           2.0           315.0   \n",
      "122  3.882       1          1               720           NaN           420.0   \n",
      "123      3       2          1               720           4.0           420.0   \n",
      "124    3.9       1          1               430           NaN           315.0   \n",
      "\n",
      "     coffee                             comfort_food  \\\n",
      "0         1                                     none   \n",
      "3         2         Pizza, Mac and cheese, ice cream   \n",
      "5         2                Candy, brownies and soda.   \n",
      "8         1                 Donuts, ice cream, chips   \n",
      "15        2              cookies, donuts, candy bars   \n",
      "..      ...                                      ...   \n",
      "120       2  wine. mac and cheese, pizza, ice cream    \n",
      "121       2               Pizza / Wings / Cheesecake   \n",
      "122       1               rice, potato, seaweed soup   \n",
      "123       1             Mac n Cheese, Lasagna, Pizza   \n",
      "124       2             Chocolates, pizza, and Ritz.   \n",
      "\n",
      "                                  comfort_food_reasons  \\\n",
      "0                                we dont have comfort    \n",
      "3                                              Boredom   \n",
      "5    None, i don't eat comfort food. I just eat whe...   \n",
      "8                                             Boredom    \n",
      "15                                             boredom   \n",
      "..                                                 ...   \n",
      "120                               boredom and sadness    \n",
      "121                    Loneliness / Homesick / Sadness   \n",
      "122                                            sadness   \n",
      "123      happiness, they are some of my favorite foods   \n",
      "124                   hormones, Premenstrual syndrome.   \n",
      "\n",
      "     comfort_food_reasons_coded  ...  soup  sports  thai_food  \\\n",
      "0                           9.0  ...   1.0     1.0          1   \n",
      "3                           2.0  ...   1.0     2.0          5   \n",
      "5                           4.0  ...   1.0     2.0          4   \n",
      "8                           2.0  ...   2.0     2.0          5   \n",
      "15                          2.0  ...   2.0     1.0          1   \n",
      "..                          ...  ...   ...     ...        ...   \n",
      "120                         NaN  ...   1.0     1.0          5   \n",
      "121                         NaN  ...   1.0     NaN          4   \n",
      "122                         NaN  ...   1.0     2.0          5   \n",
      "123                         NaN  ...   2.0     2.0          1   \n",
      "124                         NaN  ...   1.0     2.0          2   \n",
      "\n",
      "    tortilla_calories  turkey_calories  type_sports veggies_day  vitamins  \\\n",
      "0              1165.0              345   car racing           5         1   \n",
      "3               725.0              690          NaN           3         1   \n",
      "5               940.0              345        None.           1         2   \n",
      "8               725.0              345         none           3         2   \n",
      "15              940.0              345       Hockey           1         2   \n",
      "..                ...              ...          ...         ...       ...   \n",
      "120             940.0              500     Softball           5         1   \n",
      "121             940.0              500  basketball            5         2   \n",
      "122             580.0              690         none           4         2   \n",
      "123             940.0              500          NaN           3         1   \n",
      "124             725.0              345          NaN           4         2   \n",
      "\n",
      "     waffle_calories         weight  \n",
      "0               1315            187  \n",
      "3               1315  Not sure, 240  \n",
      "5               1315            190  \n",
      "8                760            180  \n",
      "15              1315            180  \n",
      "..               ...            ...  \n",
      "120             1315            156  \n",
      "121             1315            180  \n",
      "122             1315            120  \n",
      "123             1315            135  \n",
      "124              575            135  \n",
      "\n",
      "[73 rows x 61 columns]\n"
     ]
    }
   ],
   "source": [
    "missing_values = df[df.isnull().any(axis=1)]\n",
    "print(missing_values)"
   ]
  },
  {
   "cell_type": "code",
   "execution_count": 116,
   "id": "7d68f413-98fa-4c95-bcde-3fe18933cac9",
   "metadata": {},
   "outputs": [
    {
     "name": "stdout",
     "output_type": "stream",
     "text": [
      "           Gender   breakfast  calories_chicken  calories_day  calories_scone  \\\n",
      "count  125.000000  125.000000        125.000000    106.000000      124.000000   \n",
      "mean     1.392000    1.112000        577.320000      3.028302      505.241935   \n",
      "std      0.490161    0.316636        131.214156      0.639308      230.840506   \n",
      "min      1.000000    1.000000        265.000000      2.000000      315.000000   \n",
      "25%      1.000000    1.000000        430.000000      3.000000      420.000000   \n",
      "50%      1.000000    1.000000        610.000000      3.000000      420.000000   \n",
      "75%      2.000000    1.000000        720.000000      3.000000      420.000000   \n",
      "max      2.000000    2.000000        720.000000      4.000000      980.000000   \n",
      "\n",
      "          coffee  comfort_food_reasons_coded        cook  \\\n",
      "count  125.00000                  106.000000  122.000000   \n",
      "mean     1.75200                    2.698113    2.786885   \n",
      "std      0.43359                    1.972042    1.038351   \n",
      "min      1.00000                    1.000000    1.000000   \n",
      "25%      2.00000                    2.000000    2.000000   \n",
      "50%      2.00000                    2.000000    3.000000   \n",
      "75%      2.00000                    3.000000    3.000000   \n",
      "max      2.00000                    9.000000    5.000000   \n",
      "\n",
      "       comfort_food_reasons_coded.1     cuisine  ...  persian_food  \\\n",
      "count                    125.000000  108.000000  ...    124.000000   \n",
      "mean                       2.688000    1.388889  ...      2.806452   \n",
      "std                        1.910987    0.974759  ...      1.423824   \n",
      "min                        1.000000    1.000000  ...      1.000000   \n",
      "25%                        2.000000    1.000000  ...      2.000000   \n",
      "50%                        2.000000    1.000000  ...      3.000000   \n",
      "75%                        3.000000    1.000000  ...      4.000000   \n",
      "max                        9.000000    6.000000  ...      5.000000   \n",
      "\n",
      "       self_perception_weight        soup      sports   thai_food  \\\n",
      "count              124.000000  124.000000  123.000000  125.000000   \n",
      "mean                 3.120968    1.217742    1.390244    3.336000   \n",
      "std                  1.115980    0.414385    0.489800    1.436528   \n",
      "min                  1.000000    1.000000    1.000000    1.000000   \n",
      "25%                  2.000000    1.000000    1.000000    2.000000   \n",
      "50%                  3.000000    1.000000    1.000000    3.000000   \n",
      "75%                  4.000000    1.000000    2.000000    5.000000   \n",
      "max                  6.000000    2.000000    2.000000    5.000000   \n",
      "\n",
      "       tortilla_calories  turkey_calories  veggies_day    vitamins  \\\n",
      "count         124.000000       125.000000   125.000000  125.000000   \n",
      "mean          947.580645       555.040000     4.008000    1.512000   \n",
      "std           202.090179       152.370379     1.081337    0.501867   \n",
      "min           580.000000       345.000000     1.000000    1.000000   \n",
      "25%           725.000000       500.000000     3.000000    1.000000   \n",
      "50%           940.000000       500.000000     4.000000    2.000000   \n",
      "75%          1165.000000       690.000000     5.000000    2.000000   \n",
      "max          1165.000000       850.000000     5.000000    2.000000   \n",
      "\n",
      "       waffle_calories  \n",
      "count       125.000000  \n",
      "mean       1073.400000  \n",
      "std         248.667092  \n",
      "min         575.000000  \n",
      "25%         900.000000  \n",
      "50%         900.000000  \n",
      "75%        1315.000000  \n",
      "max        1315.000000  \n",
      "\n",
      "[8 rows x 47 columns]\n"
     ]
    }
   ],
   "source": [
    "print(df.describe())"
   ]
  },
  {
   "cell_type": "code",
   "execution_count": null,
   "id": "9fc90535-d763-4439-b5ac-60acfebf0174",
   "metadata": {},
   "outputs": [],
   "source": []
  }
 ],
 "metadata": {
  "kernelspec": {
   "display_name": "Python 3 (ipykernel)",
   "language": "python",
   "name": "python3"
  },
  "language_info": {
   "codemirror_mode": {
    "name": "ipython",
    "version": 3
   },
   "file_extension": ".py",
   "mimetype": "text/x-python",
   "name": "python",
   "nbconvert_exporter": "python",
   "pygments_lexer": "ipython3",
   "version": "3.12.4"
  }
 },
 "nbformat": 4,
 "nbformat_minor": 5
}
