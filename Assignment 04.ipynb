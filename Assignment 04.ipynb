{
 "cells": [
  {
   "cell_type": "code",
   "execution_count": 115,
   "id": "219400d0-3e11-412a-9892-d984a45fec23",
   "metadata": {},
   "outputs": [
    {
     "name": "stdout",
     "output_type": "stream",
     "text": [
      "['ali', 'sarah', 'zehra']\n"
     ]
    }
   ],
   "source": [
    "#guest_list = [\"ali\", \"sarah\", \"zehra\"]\n",
    "#print(guest_list)\n"
   ]
  },
  {
   "cell_type": "code",
   "execution_count": 117,
   "id": "dccf308f-2239-4318-9a47-bab6688b3b37",
   "metadata": {},
   "outputs": [
    {
     "name": "stdout",
     "output_type": "stream",
     "text": [
      "Invitation Messages:\n",
      "Dear ali,\n",
      "You are cordially invited to a dinner at my place. I would be honored to share a meal and conversation with you.\n",
      "Best regards,\n",
      "Your Host\n",
      "\n",
      "Dear sarah,\n",
      "You are cordially invited to a dinner at my place. I would be honored to share a meal and conversation with you.\n",
      "Best regards,\n",
      "Your Host\n",
      "\n",
      "Dear zehra,\n",
      "You are cordially invited to a dinner at my place. I would be honored to share a meal and conversation with you.\n",
      "Best regards,\n",
      "Your Host\n",
      "\n"
     ]
    }
   ],
   "source": [
    "# Function to generate invitation messages\n",
    "#def invite_guests(guests):\n",
    "    for guest in guests:\n",
    "        print(f\"Dear {guest},\\nYou are cordially invited to a dinner at my place. I would be honored to share a meal and conversation with you.\\nBest regards,\\nYour Host\\n\")\n",
    "        # Print the invitation messages for the new guest list\n",
    "#print(\"Invitation Messages:\")\n",
    "#invite_guests(guest_list)"
   ]
  },
  {
   "cell_type": "code",
   "execution_count": 39,
   "id": "75a72704-3671-47d2-9ef6-56834e09df94",
   "metadata": {},
   "outputs": [
    {
     "name": "stdout",
     "output_type": "stream",
     "text": [
      "['ali', 'sarah', 'zehra']\n"
     ]
    }
   ],
   "source": [
    "guest_list = [ \"ali\", \"sarah\", \"zehra\"]\n",
    "print(guest"
   ]
  },
  {
   "cell_type": "code",
   "execution_count": 49,
   "id": "cd43576e-9b2c-4af3-a9f1-e58c48ef2746",
   "metadata": {},
   "outputs": [
    {
     "name": "stdout",
     "output_type": "stream",
     "text": [
      "Unfortunately, ali cannot make it to the dinner.\n",
      "\n"
     ]
    }
   ],
   "source": [
    "#Guest who can make it\n",
    "unable_to_attend = \"ali\"\n",
    "print(f\"Unfortunately, {unable_to_attend} cannot make it to the dinner.\\n\")"
   ]
  },
  {
   "cell_type": "code",
   "execution_count": 61,
   "id": "ca9873b6-f84b-4b50-bb18-b47ddb2feac6",
   "metadata": {},
   "outputs": [
    {
     "data": {
      "text/plain": [
       "1"
      ]
     },
     "execution_count": 61,
     "metadata": {},
     "output_type": "execute_result"
    }
   ],
   "source": [
    "guest_list.index(\"sarah\")\n"
   ]
  },
  {
   "cell_type": "code",
   "execution_count": 83,
   "id": "306132ac-d913-493e-874c-e3c3a937d1a3",
   "metadata": {},
   "outputs": [
    {
     "name": "stdout",
     "output_type": "stream",
     "text": [
      "['ayesha', 'ayesha', 'ayesha', 'ayesha', 'ayesha', 'ayesha', 'ayesha', 'ayesha', 'ayesha', 'ayesha', 'ayesha', 'ayesha', 'sarah', 'zehra']\n"
     ]
    }
   ],
   "source": [
    "#guest_list.insert(0,\"ayesha\")\n",
    "print(guest_list)"
   ]
  },
  {
   "cell_type": "code",
   "execution_count": 91,
   "id": "d05e3fe0-63b4-41e6-8dfe-47913b6da157",
   "metadata": {},
   "outputs": [
    {
     "name": "stdout",
     "output_type": "stream",
     "text": [
      "['ayesha', 'sarah', 'zehra']\n"
     ]
    }
   ],
   "source": [
    "#new_guest_list = [\"ayesha\", \"sarah\", \"zehra\"]\n",
    "#print(new_guest_list)"
   ]
  },
  {
   "cell_type": "code",
   "execution_count": 103,
   "id": "8e9877ee-535c-4fac-9f66-043af13cd0d4",
   "metadata": {},
   "outputs": [
    {
     "name": "stdout",
     "output_type": "stream",
     "text": [
      "New Guest List:\n",
      "['ayesha', 'sarah', 'zehra']\n",
      "Invitation Messages:\n",
      "Dear ayesha,\n",
      "You are cordially invited to a dinner at my place. I would be honored to share a meal and conversation with you.\n",
      "Best regards,\n",
      "Uraiba\n",
      "\n",
      "Dear sarah,\n",
      "You are cordially invited to a dinner at my place. I would be honored to share a meal and conversation with you.\n",
      "Best regards,\n",
      "Uraiba\n",
      "\n",
      "Dear zehra,\n",
      "You are cordially invited to a dinner at my place. I would be honored to share a meal and conversation with you.\n",
      "Best regards,\n",
      "Uraiba\n",
      "\n"
     ]
    }
   ],
   "source": [
    "# Define the new guest list\n",
    "new_guest_list = [\"ayesha\", \"sarah\", \"zehra\"]\n",
    "\n",
    "# Print the new guest list\n",
    "print(\"New Guest List:\")\n",
    "print(new_guest_list)\n",
    "\n",
    "# Function to generate invitation messages\n",
    "def invite_guests(guests):\n",
    "    for guest in guests:\n",
    "        print(f\"Dear {guest},\\nYou are cordially invited to a dinner at my place. I would be honored to share a meal and conversation with you.\\nBest regards,\\nUraiba\\n\")\n",
    "\n",
    "# Print the invitation messages for the new guest list\n",
    "print(\"Invitation Messages:\")\n",
    "invite_guests(new_guest_list)"
   ]
  },
  {
   "cell_type": "code",
   "execution_count": 129,
   "id": "f5947134-cb7a-443d-b595-7e7412029c7a",
   "metadata": {},
   "outputs": [
    {
     "name": "stdout",
     "output_type": "stream",
     "text": [
      "Good news! I found a bigger dinner table, so I can invite more guests!\n",
      "\n",
      "Updated Guest List:\n",
      "['sofia', 'ayesha', 'sana', 'sarah', 'zehra', 'noor']\n",
      "Invitation Messages:\n",
      "Dear sofia,\n",
      "You are cordially invited to a dinner at my place. I would be honored to share a meal and conversation with you.\n",
      "Best regards,\n",
      "Uraiba\n",
      "\n",
      "Dear ayesha,\n",
      "You are cordially invited to a dinner at my place. I would be honored to share a meal and conversation with you.\n",
      "Best regards,\n",
      "Uraiba\n",
      "\n",
      "Dear sana,\n",
      "You are cordially invited to a dinner at my place. I would be honored to share a meal and conversation with you.\n",
      "Best regards,\n",
      "Uraiba\n",
      "\n",
      "Dear sarah,\n",
      "You are cordially invited to a dinner at my place. I would be honored to share a meal and conversation with you.\n",
      "Best regards,\n",
      "Uraiba\n",
      "\n",
      "Dear zehra,\n",
      "You are cordially invited to a dinner at my place. I would be honored to share a meal and conversation with you.\n",
      "Best regards,\n",
      "Uraiba\n",
      "\n",
      "Dear noor,\n",
      "You are cordially invited to a dinner at my place. I would be honored to share a meal and conversation with you.\n",
      "Best regards,\n",
      "Uraiba\n",
      "\n"
     ]
    }
   ],
   "source": [
    "# Define the initial guest list\n",
    "new_guest_list = [\"ayesha\", \"sarah\", \"zehra\"]\n",
    "\n",
    "# Inform about the bigger dinner table\n",
    "print(\"Good news! I found a bigger dinner table, so I can invite more guests!\\n\")\n",
    "\n",
    "# Add new guests\n",
    "new_guest_list.insert(0, \"sofia\")  # Add a guest at the beginning\n",
    "new_guest_list.insert(2, \"sana\")      # Add a guest in the middle\n",
    "new_guest_list.append(\"noor\")    # Add a guest at the end\n",
    "\n",
    "# Function to generate invitation messages\n",
    "def invite_guests(guests):\n",
    "    for guest in guests:\n",
    "        print(f\"Dear {guest},\\nYou are cordially invited to a dinner at my place. I would be honored to share a meal and conversation with you.\\nBest regards,\\nUraiba\\n\")\n",
    "\n",
    "# Print the updated guest list\n",
    "print(\"Updated Guest List:\")\n",
    "print(new_guest_list)\n",
    "\n",
    "# Print the invitation messages for the updated guest list\n",
    "print(\"Invitation Messages:\")\n",
    "invite_guests(new_guest_list)"
   ]
  },
  {
   "cell_type": "code",
   "execution_count": 173,
   "id": "c157b963-628f-4478-a73b-1e6c7cefe28e",
   "metadata": {},
   "outputs": [
    {
     "name": "stdout",
     "output_type": "stream",
     "text": [
      "Sorry, noor, I can't invite you to dinner.\n",
      "Sorry, zehra, I can't invite you to dinner.\n",
      "Sorry, sarah, I can't invite you to dinner.\n",
      "Sorry, safa, I can't invite you to dinner.\n",
      "['sofia', 'ayesha']\n",
      "Dear sofia, you are still invited to dinner!\n",
      "Dear ayesha, you are still invited to dinner!\n",
      "\n",
      "Final Guest List: []\n"
     ]
    }
   ],
   "source": [
    "# Define the initial guest list\n",
    "new_guest_list = [\"sofia\", \"ayesha\", \"safa\", \"sarah\", \"zehra\", \"noor\"]\n",
    "removed_guest = new_guest_list.pop(5) \n",
    "print(f\"Sorry, {removed_guest}, I can't invite you to dinner.\")\n",
    "\n",
    "removed_guest = new_guest_list.pop(4) \n",
    "print(f\"Sorry, {removed_guest}, I can't invite you to dinner.\")\n",
    "\n",
    "removed_guest = new_guest_list.pop(3)\n",
    "print(f\"Sorry, {removed_guest}, I can't invite you to dinner.\")\n",
    "\n",
    "removed_guest = new_guest_list.pop(2) \n",
    "print(f\"Sorry, {removed_guest}, I can't invite you to dinner.\")\n",
    "\n",
    "print(new_guest_list)\n",
    "\n",
    "for guest in new_guest_list:\n",
    "    print(f\"Dear {guest}, you are still invited to dinner!\")\n",
    "    \n",
    "del new_guest_list[:]\n",
    "print(\"\\nFinal Guest List:\", new_guest_list)"
   ]
  },
  {
   "cell_type": "code",
   "execution_count": 185,
   "id": "4451d44c-6c64-463d-8c89-eaea12c26dbf",
   "metadata": {},
   "outputs": [
    {
     "name": "stdout",
     "output_type": "stream",
     "text": [
      "['foccacia', 'cibatta', 'bagutte', 'german multigrain', 'babka', 'bran bread', 'milk bread', 'multigrain bread']\n"
     ]
    }
   ],
   "source": [
    "bread_items = [\"foccacia\", \"cibatta\", \"bagutte\",\"german multigrain\",\"babka\",\"bran bread\",\"milk bread\", \"multigrain bread\"]\n",
    "print(bread_items)\n"
   ]
  },
  {
   "cell_type": "code",
   "execution_count": 197,
   "id": "d70284ac-085a-43fa-bbd7-0b4430b92062",
   "metadata": {},
   "outputs": [
    {
     "name": "stdout",
     "output_type": "stream",
     "text": [
      "['foccacia', 'cibatta', 'bagutte', 'german multigrain']\n"
     ]
    }
   ],
   "source": [
    "special_breads = bread_items[0:4]\n",
    "print(special_breads)"
   ]
  },
  {
   "cell_type": "code",
   "execution_count": 205,
   "id": "7f51be8e-8cc0-4c06-8b5e-548aae56c3dd",
   "metadata": {},
   "outputs": [
    {
     "name": "stdout",
     "output_type": "stream",
     "text": [
      "['bran bread', 'milk bread', 'multigrain bread']\n"
     ]
    }
   ],
   "source": [
    "regular_breads = bread_items[5:8]\n",
    "print(regular_breads)\n"
   ]
  },
  {
   "cell_type": "code",
   "execution_count": null,
   "id": "c388562b-6753-4e24-9e53-b767fd7efa3f",
   "metadata": {},
   "outputs": [],
   "source": []
  }
 ],
 "metadata": {
  "kernelspec": {
   "display_name": "Python 3 (ipykernel)",
   "language": "python",
   "name": "python3"
  },
  "language_info": {
   "codemirror_mode": {
    "name": "ipython",
    "version": 3
   },
   "file_extension": ".py",
   "mimetype": "text/x-python",
   "name": "python",
   "nbconvert_exporter": "python",
   "pygments_lexer": "ipython3",
   "version": "3.12.4"
  }
 },
 "nbformat": 4,
 "nbformat_minor": 5
}
